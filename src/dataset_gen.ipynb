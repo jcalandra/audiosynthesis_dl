{
  "nbformat": 4,
  "nbformat_minor": 0,
  "metadata": {
    "colab": {
      "name": "dataset_gen.ipynb",
      "version": "0.3.2",
      "provenance": [],
      "collapsed_sections": [],
      "include_colab_link": true
    },
    "kernelspec": {
      "name": "python3",
      "display_name": "Python 3"
    }
  },
  "cells": [
    {
      "cell_type": "markdown",
      "metadata": {
        "id": "view-in-github",
        "colab_type": "text"
      },
      "source": [
        "<a href=\"https://colab.research.google.com/github/jcalandra/audiosynthesis_dl/blob/master/src/dataset_gen.ipynb\" target=\"_parent\"><img src=\"https://colab.research.google.com/assets/colab-badge.svg\" alt=\"Open In Colab\"/></a>"
      ]
    },
    {
      "metadata": {
        "id": "OG3EflbmIaRK",
        "colab_type": "code",
        "colab": {}
      },
      "cell_type": "code",
      "source": [
        "import os\n",
        "import cv2, numpy as np\n",
        "from google.colab.patches import cv2_imshow\n",
        "from google.colab import files"
      ],
      "execution_count": 0,
      "outputs": []
    },
    {
      "metadata": {
        "id": "tcnPHOQzAChf",
        "colab_type": "code",
        "outputId": "95f3e1eb-662c-47a9-f375-d662ea4cf550",
        "colab": {
          "base_uri": "https://localhost:8080/",
          "height": 136
        }
      },
      "cell_type": "code",
      "source": [
        "! git clone https://github.com/jcalandra/audiosynthesis_dl.git"
      ],
      "execution_count": 3,
      "outputs": [
        {
          "output_type": "stream",
          "text": [
            "Cloning into 'audiosynthesis_dl'...\n",
            "remote: Enumerating objects: 274, done.\u001b[K\n",
            "remote: Counting objects: 100% (274/274), done.\u001b[K\n",
            "remote: Compressing objects: 100% (261/261), done.\u001b[K\n",
            "remote: Total 613 (delta 13), reused 259 (delta 8), pack-reused 339\u001b[K\n",
            "Receiving objects: 100% (613/613), 9.71 MiB | 42.15 MiB/s, done.\n",
            "Resolving deltas: 100% (84/84), done.\n"
          ],
          "name": "stdout"
        }
      ]
    },
    {
      "metadata": {
        "id": "ebiwYkRNcSB1",
        "colab_type": "code",
        "colab": {}
      },
      "cell_type": "code",
      "source": [
        "#GLOBAL VALUES\n",
        "\n",
        "NB_CLASS = 12\n",
        "PICT_WIDTH = 400\n",
        "NB_CHANNEL = 3\n",
        "LINE_WIDTH = PICT_WIDTH//NB_CLASS #33\n",
        "\n",
        "# number of trained and validation pictures based on MNIST dataset\n",
        "NB_TRAIN = 600\n",
        "NB_TEST = 100\n"
      ],
      "execution_count": 0,
      "outputs": []
    },
    {
      "metadata": {
        "id": "oKFUztPLZ8d4",
        "colab_type": "code",
        "colab": {}
      },
      "cell_type": "code",
      "source": [
        "#LOADING THE BASELINE\n",
        "\n",
        "baseline = cv2.imread('audiosynthesis_dl/data/base_quadrillage.png', 0)\n",
        "#cv2_imshow(baseline)"
      ],
      "execution_count": 0,
      "outputs": []
    },
    {
      "metadata": {
        "id": "a1cWpH0UND5m",
        "colab_type": "code",
        "colab": {}
      },
      "cell_type": "code",
      "source": [
        "#PICTURE GENERATION\n",
        "\n",
        "def generate_pict(nb_pict, folder):\n",
        "  \"\"\" creates nb_pictures of pitch-lines and saves them permanently in the folder img_'folder'.\n",
        "      Folder has to be a string and nb_pict is an integer.\"\"\"\n",
        "  for i in range (nb_pict) :\n",
        "    # creation of the baseline : quadrilled picture\n",
        "    line_image = np.zeros((PICT_WIDTH,PICT_WIDTH,NB_CHANNEL), np.uint8)\n",
        "    line_image = baseline.copy()\n",
        "\n",
        "    # generation of lines :\n",
        "    thickness = np.random.randint((LINE_WIDTH - 4)//2) # maximum of (LINE_WIDTH - 4) to obtain in this case a bit of variation in the shape and avoid the creation of two exact same pictures\n",
        "    delta = (LINE_WIDTH - (thickness*2))//2            # delta of allowed variation of the line\n",
        "    height = (i%NB_CLASS)*LINE_WIDTH + (LINE_WIDTH + 5)//2   # actual height depending on (i%12) the pitch and the width of a pitch line\n",
        "\n",
        "    variation = 0\n",
        "    for j in  range (PICT_WIDTH):\n",
        "      intervalle = np.random.randint(1,12)              #to avoid a sharp variation, we keep the same variation height for each 'intervalle'\n",
        "      if (j%intervalle == 0) :                         # if we want to change the height of the line\n",
        "        tmp_var = np.random.randint(-1, 2)             # each variation is an increase or a decrease of 1 (or same height)\n",
        "        if abs(variation + tmp_var) < delta :\n",
        "          variation = variation + tmp_var\n",
        "        else :\n",
        "          variation = variation\n",
        "\n",
        "      line_image[PICT_WIDTH - height - 1 + variation][PICT_WIDTH - j - 1] = 0       # creation of the line\n",
        "      for k in range (thickness) :\n",
        "        line_image[PICT_WIDTH - height - 1 - k + variation][PICT_WIDTH - j - 1] = 0 # and its thickness\n",
        "        line_image[PICT_WIDTH - height - 1 + k + variation][PICT_WIDTH - j - 1] = 0\n",
        "\n",
        "    #cv2_imshow(line_image) #showing the images for tests\n",
        "\n",
        "    # save the picture in google colab :\n",
        "    cv2.imwrite('./audiosynthesis_dl/data/pitch_img/img_'+folder+'/draw'+str(69 + i%NB_CLASS)+'_'+str(i//NB_CLASS)+'_'+folder+'.png', line_image) #69 is pitch for la440\n",
        "  \n",
        "generate_pict(NB_TRAIN, 'train')\n",
        "generate_pict(NB_TEST, 'test')\n"
      ],
      "execution_count": 0,
      "outputs": []
    },
    {
      "metadata": {
        "id": "TAWQatIOaNHi",
        "colab_type": "code",
        "colab": {}
      },
      "cell_type": "code",
      "source": [
        "#SAVING PICTURES\n",
        "# save the pictures in local :\n",
        "# - Think about changing dowload path in google chrome parameters according to the corresponding folder\n",
        "# - Put the extension _test.png ot _train.png according to the corresponding folder\n",
        "for i in range (NB_TRAIN):\n",
        "  files.download('./audiosynthesis_dl/data/pitch_img/img_train/draw'+str(69 + i%12)+'_'+str(i//12)+'_train.png')\n",
        "# for i in range (NB_TEST):\n",
        "#   files.download('./audiosynthesis_dl/data/pitch_img/img_test/draw'+str(69 + i%12)+'_'+str(i//12)+'_test.png')\n"
      ],
      "execution_count": 0,
      "outputs": []
    }
  ]
}